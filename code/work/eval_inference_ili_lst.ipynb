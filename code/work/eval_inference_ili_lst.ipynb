{
 "cells": [
  {
   "cell_type": "code",
   "execution_count": 1,
   "id": "ddeeae9d-3b49-43a3-9d6b-3be1edb7e6fe",
   "metadata": {},
   "outputs": [],
   "source": [
    "import numpy as np\n",
    "import pandas as pd\n",
    "\n",
    "import seaborn as sns\n",
    "import matplotlib.pyplot as plt\n",
    "import random"
   ]
  },
  {
   "cell_type": "code",
   "execution_count": 11,
   "id": "99fdf73b-8486-4ed6-9bf2-f85a03e0b239",
   "metadata": {},
   "outputs": [],
   "source": [
    "def error_mae(y_hat, y_true):\n",
    "  '''\n",
    "  Given a set of predicted values and the true labels as lists,\n",
    "  return a scalar value containing the mean absolute error between\n",
    "  the two\n",
    "  '''\n",
    "  err = y_true - y_hat\n",
    "  abs_err = np.abs(err)\n",
    "  mae = np.mean(abs_err) #rescale\n",
    "  return mae"
   ]
  },
  {
   "cell_type": "code",
   "execution_count": 88,
   "id": "12026d34-ddd6-48bd-b781-36fe7414ce71",
   "metadata": {},
   "outputs": [],
   "source": [
    "EPS = 0.00000000000000000000000000000001\n",
    "def error_mape(y_hat, y_true):\n",
    "  '''\n",
    "  Given a set of predicted values and the true labels as lists,\n",
    "  return a scalar value containing the mean absolute predicted\n",
    "  error between the two\n",
    "  mape = average of |(y_true - y_hat)/y_true|\n",
    "  https://en.wikipedia.org/wiki/Mean_absolute_percentage_error\n",
    "  '''\n",
    "  err = y_true - y_hat\n",
    "  abs_relative_err = np.abs((np.abs(err) + EPS)/(y_true + EPS))\n",
    "  # abs_relative_err = np.abs(relative_err)\n",
    "  mape = np.mean(abs_relative_err)\n",
    "  return mape"
   ]
  },
  {
   "cell_type": "code",
   "execution_count": 4,
   "id": "ab5794fe-2cb2-417e-bbc1-5c6e89495111",
   "metadata": {},
   "outputs": [],
   "source": [
    "finetuned_results_df = pd.read_csv('../data/ILI/test_cleaned_month_ILI_finetuned_predictions.csv')\n",
    "zero_shot_results_df = pd.read_csv('../data/ILI/test_cleaned_month_ILI_zero_shot_predictions.csv')\n",
    "avg_t1_results_df = pd.read_csv('../data/ILI/test_ili_baselines.csv')"
   ]
  },
  {
   "cell_type": "code",
   "execution_count": 5,
   "id": "c1dcbae8-7f11-4324-ac11-e65aee1df9b4",
   "metadata": {},
   "outputs": [
    {
     "data": {
      "text/html": [
       "<div>\n",
       "<style scoped>\n",
       "    .dataframe tbody tr th:only-of-type {\n",
       "        vertical-align: middle;\n",
       "    }\n",
       "\n",
       "    .dataframe tbody tr th {\n",
       "        vertical-align: top;\n",
       "    }\n",
       "\n",
       "    .dataframe thead th {\n",
       "        text-align: right;\n",
       "    }\n",
       "</style>\n",
       "<table border=\"1\" class=\"dataframe\">\n",
       "  <thead>\n",
       "    <tr style=\"text-align: right;\">\n",
       "      <th></th>\n",
       "      <th>demographic</th>\n",
       "      <th>month</th>\n",
       "      <th>predicted_ili</th>\n",
       "      <th>observed_ili</th>\n",
       "    </tr>\n",
       "  </thead>\n",
       "  <tbody>\n",
       "    <tr>\n",
       "      <th>0</th>\n",
       "      <td>age 0-4</td>\n",
       "      <td>1</td>\n",
       "      <td>54432.0</td>\n",
       "      <td>70214.0</td>\n",
       "    </tr>\n",
       "    <tr>\n",
       "      <th>1</th>\n",
       "      <td>age 0-4</td>\n",
       "      <td>2</td>\n",
       "      <td>15479.0</td>\n",
       "      <td>26458.0</td>\n",
       "    </tr>\n",
       "    <tr>\n",
       "      <th>2</th>\n",
       "      <td>age 0-4</td>\n",
       "      <td>3</td>\n",
       "      <td>45585.0</td>\n",
       "      <td>33978.0</td>\n",
       "    </tr>\n",
       "    <tr>\n",
       "      <th>3</th>\n",
       "      <td>age 0-4</td>\n",
       "      <td>4</td>\n",
       "      <td>36733.0</td>\n",
       "      <td>43238.0</td>\n",
       "    </tr>\n",
       "    <tr>\n",
       "      <th>4</th>\n",
       "      <td>age 0-4</td>\n",
       "      <td>5</td>\n",
       "      <td>50348.0</td>\n",
       "      <td>70628.0</td>\n",
       "    </tr>\n",
       "  </tbody>\n",
       "</table>\n",
       "</div>"
      ],
      "text/plain": [
       "  demographic  month  predicted_ili  observed_ili\n",
       "0     age 0-4      1        54432.0       70214.0\n",
       "1     age 0-4      2        15479.0       26458.0\n",
       "2     age 0-4      3        45585.0       33978.0\n",
       "3     age 0-4      4        36733.0       43238.0\n",
       "4     age 0-4      5        50348.0       70628.0"
      ]
     },
     "execution_count": 5,
     "metadata": {},
     "output_type": "execute_result"
    }
   ],
   "source": [
    "finetuned_results_df.head()"
   ]
  },
  {
   "cell_type": "code",
   "execution_count": 6,
   "id": "9a9b419b-00d5-43b4-9664-3b0a607dd51f",
   "metadata": {},
   "outputs": [
    {
     "data": {
      "text/html": [
       "<div>\n",
       "<style scoped>\n",
       "    .dataframe tbody tr th:only-of-type {\n",
       "        vertical-align: middle;\n",
       "    }\n",
       "\n",
       "    .dataframe tbody tr th {\n",
       "        vertical-align: top;\n",
       "    }\n",
       "\n",
       "    .dataframe thead th {\n",
       "        text-align: right;\n",
       "    }\n",
       "</style>\n",
       "<table border=\"1\" class=\"dataframe\">\n",
       "  <thead>\n",
       "    <tr style=\"text-align: right;\">\n",
       "      <th></th>\n",
       "      <th>demographic</th>\n",
       "      <th>month</th>\n",
       "      <th>predicted_ili</th>\n",
       "      <th>observed_ili</th>\n",
       "    </tr>\n",
       "  </thead>\n",
       "  <tbody>\n",
       "    <tr>\n",
       "      <th>0</th>\n",
       "      <td>age 0-4</td>\n",
       "      <td>1</td>\n",
       "      <td>31563.0</td>\n",
       "      <td>70214.0</td>\n",
       "    </tr>\n",
       "    <tr>\n",
       "      <th>1</th>\n",
       "      <td>age 0-4</td>\n",
       "      <td>2</td>\n",
       "      <td>30750.0</td>\n",
       "      <td>26458.0</td>\n",
       "    </tr>\n",
       "    <tr>\n",
       "      <th>2</th>\n",
       "      <td>age 0-4</td>\n",
       "      <td>3</td>\n",
       "      <td>27000.0</td>\n",
       "      <td>33978.0</td>\n",
       "    </tr>\n",
       "    <tr>\n",
       "      <th>3</th>\n",
       "      <td>age 0-4</td>\n",
       "      <td>4</td>\n",
       "      <td>17000.0</td>\n",
       "      <td>43238.0</td>\n",
       "    </tr>\n",
       "    <tr>\n",
       "      <th>4</th>\n",
       "      <td>age 0-4</td>\n",
       "      <td>5</td>\n",
       "      <td>10667.0</td>\n",
       "      <td>70628.0</td>\n",
       "    </tr>\n",
       "  </tbody>\n",
       "</table>\n",
       "</div>"
      ],
      "text/plain": [
       "  demographic  month  predicted_ili  observed_ili\n",
       "0     age 0-4      1        31563.0       70214.0\n",
       "1     age 0-4      2        30750.0       26458.0\n",
       "2     age 0-4      3        27000.0       33978.0\n",
       "3     age 0-4      4        17000.0       43238.0\n",
       "4     age 0-4      5        10667.0       70628.0"
      ]
     },
     "execution_count": 6,
     "metadata": {},
     "output_type": "execute_result"
    }
   ],
   "source": [
    "zero_shot_results_df.head()"
   ]
  },
  {
   "cell_type": "code",
   "execution_count": 7,
   "id": "ee53581b-be27-42e4-a587-9e4021e51e0e",
   "metadata": {},
   "outputs": [
    {
     "data": {
      "text/html": [
       "<div>\n",
       "<style scoped>\n",
       "    .dataframe tbody tr th:only-of-type {\n",
       "        vertical-align: middle;\n",
       "    }\n",
       "\n",
       "    .dataframe tbody tr th {\n",
       "        vertical-align: top;\n",
       "    }\n",
       "\n",
       "    .dataframe thead th {\n",
       "        text-align: right;\n",
       "    }\n",
       "</style>\n",
       "<table border=\"1\" class=\"dataframe\">\n",
       "  <thead>\n",
       "    <tr style=\"text-align: right;\">\n",
       "      <th></th>\n",
       "      <th>demographic</th>\n",
       "      <th>month</th>\n",
       "      <th>averaged_ili</th>\n",
       "      <th>last_ili</th>\n",
       "      <th>observed_ili</th>\n",
       "    </tr>\n",
       "  </thead>\n",
       "  <tbody>\n",
       "    <tr>\n",
       "      <th>0</th>\n",
       "      <td>age 0-4</td>\n",
       "      <td>1</td>\n",
       "      <td>38033.7</td>\n",
       "      <td>12414.0</td>\n",
       "      <td>70214.0</td>\n",
       "    </tr>\n",
       "    <tr>\n",
       "      <th>1</th>\n",
       "      <td>age 0-4</td>\n",
       "      <td>2</td>\n",
       "      <td>38980.9</td>\n",
       "      <td>10057.0</td>\n",
       "      <td>26458.0</td>\n",
       "    </tr>\n",
       "    <tr>\n",
       "      <th>2</th>\n",
       "      <td>age 0-4</td>\n",
       "      <td>3</td>\n",
       "      <td>31940.5</td>\n",
       "      <td>13325.0</td>\n",
       "      <td>33978.0</td>\n",
       "    </tr>\n",
       "    <tr>\n",
       "      <th>3</th>\n",
       "      <td>age 0-4</td>\n",
       "      <td>4</td>\n",
       "      <td>19440.4</td>\n",
       "      <td>19847.0</td>\n",
       "      <td>43238.0</td>\n",
       "    </tr>\n",
       "    <tr>\n",
       "      <th>4</th>\n",
       "      <td>age 0-4</td>\n",
       "      <td>5</td>\n",
       "      <td>15938.8</td>\n",
       "      <td>36828.0</td>\n",
       "      <td>70628.0</td>\n",
       "    </tr>\n",
       "  </tbody>\n",
       "</table>\n",
       "</div>"
      ],
      "text/plain": [
       "  demographic  month  averaged_ili  last_ili  observed_ili\n",
       "0     age 0-4      1       38033.7   12414.0       70214.0\n",
       "1     age 0-4      2       38980.9   10057.0       26458.0\n",
       "2     age 0-4      3       31940.5   13325.0       33978.0\n",
       "3     age 0-4      4       19440.4   19847.0       43238.0\n",
       "4     age 0-4      5       15938.8   36828.0       70628.0"
      ]
     },
     "execution_count": 7,
     "metadata": {},
     "output_type": "execute_result"
    }
   ],
   "source": [
    "avg_t1_results_df.head()"
   ]
  },
  {
   "cell_type": "code",
   "execution_count": 8,
   "id": "62f06a52-597f-4636-9cf0-3a9ca30d4032",
   "metadata": {},
   "outputs": [
    {
     "name": "stdout",
     "output_type": "stream",
     "text": [
      "Finetuned MAE =  22.5897\n",
      "Finetuned MAPE =  0.5161353838070679\n"
     ]
    }
   ],
   "source": [
    "finetuned_mae = error_mae(finetuned_results_df['predicted_ili'],\n",
    "                          finetuned_results_df['observed_ili'])\n",
    "print('Finetuned MAE = ', finetuned_mae)\n",
    "\n",
    "finetuned_mape = error_mape(finetuned_results_df['predicted_ili'],\n",
    "                          finetuned_results_df['observed_ili'])\n",
    "print('Finetuned MAPE = ', finetuned_mape)"
   ]
  },
  {
   "cell_type": "code",
   "execution_count": 9,
   "id": "6c13786c-ff64-4a23-a84a-3c22dfd98b86",
   "metadata": {},
   "outputs": [
    {
     "name": "stdout",
     "output_type": "stream",
     "text": [
      "Zero Shot MAE =  36.59464285714286\n",
      "Zero Shot MAPE =  0.7126896104204424\n"
     ]
    }
   ],
   "source": [
    "zs_mae = error_mae(zero_shot_results_df['predicted_ili'],\n",
    "                          zero_shot_results_df['observed_ili'])\n",
    "print('Zero Shot MAE = ', zs_mae)\n",
    "\n",
    "zs_mape = error_mape(zero_shot_results_df['predicted_ili'],\n",
    "                          zero_shot_results_df['observed_ili'])\n",
    "print('Zero Shot MAPE = ', zs_mape)"
   ]
  },
  {
   "cell_type": "code",
   "execution_count": 10,
   "id": "c750137c-9013-47ac-93ab-8866db955981",
   "metadata": {},
   "outputs": [
    {
     "name": "stdout",
     "output_type": "stream",
     "text": [
      "Average Val MAE =  34.992425714285716\n",
      "Average Val MAPE =  0.5966266810325748\n"
     ]
    }
   ],
   "source": [
    "avg_mae = error_mae(avg_t1_results_df['averaged_ili'],\n",
    "                          avg_t1_results_df['observed_ili'])\n",
    "print('Average Val MAE = ', avg_mae)\n",
    "\n",
    "avg_mape = error_mape(avg_t1_results_df['averaged_ili'],\n",
    "                          avg_t1_results_df['observed_ili'])\n",
    "print('Average Val MAPE = ', avg_mape)"
   ]
  },
  {
   "cell_type": "code",
   "execution_count": 11,
   "id": "6e10e99b-ab71-483a-bfb8-73ee35696264",
   "metadata": {},
   "outputs": [
    {
     "name": "stdout",
     "output_type": "stream",
     "text": [
      "T-1 MAE =  31.070742857142857\n",
      "T-1 MAPE =  0.5160859818561004\n"
     ]
    }
   ],
   "source": [
    "t1_mae = error_mae(avg_t1_results_df['last_ili'],\n",
    "                          avg_t1_results_df['observed_ili'])\n",
    "print('T-1 MAE = ', t1_mae)\n",
    "\n",
    "t1_mape = error_mape(avg_t1_results_df['last_ili'],\n",
    "                          avg_t1_results_df['observed_ili'])\n",
    "print('T-1 MAPE = ', t1_mape)"
   ]
  },
  {
   "cell_type": "code",
   "execution_count": 21,
   "id": "fd4ba06b-6690-482c-8bf7-5bd04e26f373",
   "metadata": {},
   "outputs": [
    {
     "data": {
      "image/png": "[encoded data removed]",
      "text/plain": [
       "<Figure size 640x480 with 1 Axes>"
      ]
     },
     "metadata": {},
     "output_type": "display_data"
    }
   ],
   "source": [
    "finetuned_results_df['error'] = (finetuned_results_df['observed_ili'] - finetuned_results_df['predicted_ili'])/finetuned_results_df['observed_ili'] * 50\n",
    "sns.histplot(finetuned_results_df['error'], kde=True)\n",
    "plt.xlabel('Percent Error (%)')\n",
    "plt.ylabel('Frequency')\n",
    "plt.title('Error Frequency: Predicting ILI using GPT 3.5 finetuned with 10-year sliding windows')\n",
    "plt.show()"
   ]
  },
  {
   "cell_type": "code",
   "execution_count": 20,
   "id": "7d46b461-2742-4bdf-8c47-90e1612a1549",
   "metadata": {},
   "outputs": [
    {
     "data": {
      "image/png": "[encoded data removed]",
      "text/plain": [
       "<Figure size 640x480 with 1 Axes>"
      ]
     },
     "metadata": {},
     "output_type": "display_data"
    }
   ],
   "source": [
    "zero_shot_results_df['error'] = (zero_shot_results_df['observed_ili'] - zero_shot_results_df['predicted_ili'])/zero_shot_results_df['observed_ili'] * 100\n",
    "sns.histplot(zero_shot_results_df['error'], kde=True)\n",
    "plt.xlabel('Percent Error using (Y_True - Y_Hat) (%)')\n",
    "plt.ylabel('Frequency')\n",
    "plt.title('Error Frequency: Predicting ILI using Vanilla GPT 3.5')\n",
    "plt.show()"
   ]
  },
  {
   "cell_type": "markdown",
   "id": "09e6258f",
   "metadata": {},
   "source": [
    "#### now for LST"
   ]
  },
  {
   "cell_type": "code",
   "execution_count": 5,
   "id": "1e7a5c49-e785-4f7e-a2c1-d6a135fc92a7",
   "metadata": {},
   "outputs": [],
   "source": [
    "finetuned_results_df = pd.read_csv('../data/CRU/test_cleaned_LST_finetuned_predictions.csv')\n",
    "zero_shot_results_df = pd.read_csv('../data/CRU/test_cleaned_LST_zero_shot_predictions.csv')\n",
    "avg_t1_results_df = pd.read_csv('../data/CRU/test_lst_baselines.csv')"
   ]
  },
  {
   "cell_type": "code",
   "execution_count": 43,
   "id": "19257458",
   "metadata": {},
   "outputs": [
    {
     "name": "stdout",
     "output_type": "stream",
     "text": [
      "Finetuned MAE =  0.43659090909090903\n",
      "Finetuned MAPE =  0.10629814958191314\n"
     ]
    }
   ],
   "source": [
    "finetuned_mae = error_mae(finetuned_results_df['predicted_lst'],\n",
    "                          finetuned_results_df['observed_lst'])\n",
    "print('Finetuned MAE = ', finetuned_mae)\n",
    "\n",
    "finetuned_mape = error_mape(finetuned_results_df['predicted_lst'],\n",
    "                          finetuned_results_df['observed_lst'])\n",
    "print('Finetuned MAPE = ', finetuned_mape)"
   ]
  },
  {
   "cell_type": "code",
   "execution_count": 63,
   "id": "9972ffa5-a176-444c-b297-b89fd7634f81",
   "metadata": {},
   "outputs": [
    {
     "name": "stdout",
     "output_type": "stream",
     "text": [
      "Zero Shot MAE =  0.2888636363636365\n",
      "Zero Shot MAPE =  0.07965213724559767\n"
     ]
    }
   ],
   "source": [
    "zs_mae = error_mae(zero_shot_results_df['predicted_lst'],\n",
    "                          zero_shot_results_df['observed_lst'])\n",
    "print('Zero Shot MAE = ', zs_mae)\n",
    "\n",
    "zs_mape = error_mape(zero_shot_results_df['predicted_lst'],\n",
    "                          zero_shot_results_df['observed_lst'])\n",
    "print('Zero Shot MAPE = ', zs_mape)"
   ]
  },
  {
   "cell_type": "code",
   "execution_count": 48,
   "id": "f2467cba-5e7e-4853-85d0-df2e6d44cb8b",
   "metadata": {},
   "outputs": [
    {
     "name": "stdout",
     "output_type": "stream",
     "text": [
      "Average Val MAE =  0.4539772727272732\n",
      "Average Val MAPE =  0.11538514687254581\n"
     ]
    }
   ],
   "source": [
    "avg_mae = error_mae(avg_t1_results_df['averaged'],\n",
    "                          avg_t1_results_df['observed'])\n",
    "print('Average Val MAE = ', avg_mae)\n",
    "\n",
    "avg_mape = error_mape(avg_t1_results_df['averaged'],\n",
    "                          avg_t1_results_df['observed'])\n",
    "print('Average Val MAPE = ', avg_mape)"
   ]
  },
  {
   "cell_type": "code",
   "execution_count": 69,
   "id": "fdd11c9c-10db-4875-8e44-d5d6bc1e4869",
   "metadata": {},
   "outputs": [
    {
     "name": "stdout",
     "output_type": "stream",
     "text": [
      "T-1 MAE =  0.4709090909090912\n",
      "T-1 MAPE =  0.13697546587825676\n"
     ]
    }
   ],
   "source": [
    "t1_mae = error_mae(avg_t1_results_df['previous'],\n",
    "                          avg_t1_results_df['observed'])\n",
    "print('T-1 MAE = ', t1_mae)\n",
    "\n",
    "t1_mape = error_mape(avg_t1_results_df['previous'],\n",
    "                          avg_t1_results_df['observed'])\n",
    "print('T-1 MAPE = ', t1_mape)"
   ]
  },
  {
   "cell_type": "code",
   "execution_count": 51,
   "id": "7e68931e-aa41-4177-baa5-6890e22983b7",
   "metadata": {},
   "outputs": [
    {
     "data": {
      "image/png": "[encoded data removed]",
      "text/plain": [
       "<Figure size 640x480 with 1 Axes>"
      ]
     },
     "metadata": {},
     "output_type": "display_data"
    }
   ],
   "source": [
    "diff = finetuned_results_df['observed_lst'] - finetuned_results_df['predicted_lst']\n",
    "finetuned_results_df['error'] = (diff)/finetuned_results_df['observed_lst'] * 100\n",
    "sns.histplot(finetuned_results_df['error'], kde=True)\n",
    "plt.xlabel('Percent Error (%)')\n",
    "plt.ylabel('Frequency')\n",
    "plt.title('Error Frequency: Predicting LST using GPT 3.5 finetuned with 10-year sliding windows')\n",
    "plt.show()"
   ]
  },
  {
   "cell_type": "code",
   "execution_count": 52,
   "id": "7ca59984-923c-4175-9491-5bbccafd99a7",
   "metadata": {},
   "outputs": [
    {
     "data": {
      "text/html": [
       "<div>\n",
       "<style scoped>\n",
       "    .dataframe tbody tr th:only-of-type {\n",
       "        vertical-align: middle;\n",
       "    }\n",
       "\n",
       "    .dataframe tbody tr th {\n",
       "        vertical-align: top;\n",
       "    }\n",
       "\n",
       "    .dataframe thead th {\n",
       "        text-align: right;\n",
       "    }\n",
       "</style>\n",
       "<table border=\"1\" class=\"dataframe\">\n",
       "  <thead>\n",
       "    <tr style=\"text-align: right;\">\n",
       "      <th></th>\n",
       "      <th>country</th>\n",
       "      <th>predicted_lst</th>\n",
       "      <th>observed_lst</th>\n",
       "      <th>error</th>\n",
       "      <th>absolute_error</th>\n",
       "    </tr>\n",
       "  </thead>\n",
       "  <tbody>\n",
       "    <tr>\n",
       "      <th>60</th>\n",
       "      <td>Norway</td>\n",
       "      <td>-8.72</td>\n",
       "      <td>-5.56</td>\n",
       "      <td>-56.834532</td>\n",
       "      <td>3.16</td>\n",
       "    </tr>\n",
       "    <tr>\n",
       "      <th>6</th>\n",
       "      <td>Belarus</td>\n",
       "      <td>-0.79</td>\n",
       "      <td>1.41</td>\n",
       "      <td>156.028369</td>\n",
       "      <td>2.20</td>\n",
       "    </tr>\n",
       "    <tr>\n",
       "      <th>38</th>\n",
       "      <td>Kyrgyzstan</td>\n",
       "      <td>8.92</td>\n",
       "      <td>7.01</td>\n",
       "      <td>-27.246790</td>\n",
       "      <td>1.91</td>\n",
       "    </tr>\n",
       "    <tr>\n",
       "      <th>73</th>\n",
       "      <td>Svalbard and Jan Mayen</td>\n",
       "      <td>-10.72</td>\n",
       "      <td>-8.86</td>\n",
       "      <td>-20.993228</td>\n",
       "      <td>1.86</td>\n",
       "    </tr>\n",
       "    <tr>\n",
       "      <th>23</th>\n",
       "      <td>Faroe Islands</td>\n",
       "      <td>-10.65</td>\n",
       "      <td>-8.88</td>\n",
       "      <td>-19.932432</td>\n",
       "      <td>1.77</td>\n",
       "    </tr>\n",
       "    <tr>\n",
       "      <th>66</th>\n",
       "      <td>Russian Federation</td>\n",
       "      <td>-12.61</td>\n",
       "      <td>-14.34</td>\n",
       "      <td>12.064156</td>\n",
       "      <td>1.73</td>\n",
       "    </tr>\n",
       "    <tr>\n",
       "      <th>40</th>\n",
       "      <td>Latvia</td>\n",
       "      <td>2.16</td>\n",
       "      <td>3.54</td>\n",
       "      <td>38.983051</td>\n",
       "      <td>1.38</td>\n",
       "    </tr>\n",
       "    <tr>\n",
       "      <th>55</th>\n",
       "      <td>Netherlands</td>\n",
       "      <td>5.77</td>\n",
       "      <td>4.50</td>\n",
       "      <td>-28.222222</td>\n",
       "      <td>1.27</td>\n",
       "    </tr>\n",
       "    <tr>\n",
       "      <th>22</th>\n",
       "      <td>Estonia</td>\n",
       "      <td>-0.69</td>\n",
       "      <td>0.44</td>\n",
       "      <td>256.818182</td>\n",
       "      <td>1.13</td>\n",
       "    </tr>\n",
       "    <tr>\n",
       "      <th>50</th>\n",
       "      <td>Mongolia</td>\n",
       "      <td>4.04</td>\n",
       "      <td>3.03</td>\n",
       "      <td>-33.333333</td>\n",
       "      <td>1.01</td>\n",
       "    </tr>\n",
       "    <tr>\n",
       "      <th>84</th>\n",
       "      <td>Uzbekistan</td>\n",
       "      <td>9.29</td>\n",
       "      <td>8.32</td>\n",
       "      <td>-11.658654</td>\n",
       "      <td>0.97</td>\n",
       "    </tr>\n",
       "    <tr>\n",
       "      <th>20</th>\n",
       "      <td>Czech Republic</td>\n",
       "      <td>5.49</td>\n",
       "      <td>4.53</td>\n",
       "      <td>-21.192053</td>\n",
       "      <td>0.96</td>\n",
       "    </tr>\n",
       "    <tr>\n",
       "      <th>76</th>\n",
       "      <td>Tajikistan</td>\n",
       "      <td>8.58</td>\n",
       "      <td>7.66</td>\n",
       "      <td>-12.010444</td>\n",
       "      <td>0.92</td>\n",
       "    </tr>\n",
       "    <tr>\n",
       "      <th>45</th>\n",
       "      <td>Malawi</td>\n",
       "      <td>27.84</td>\n",
       "      <td>26.97</td>\n",
       "      <td>-3.225806</td>\n",
       "      <td>0.87</td>\n",
       "    </tr>\n",
       "    <tr>\n",
       "      <th>7</th>\n",
       "      <td>Belgium</td>\n",
       "      <td>5.52</td>\n",
       "      <td>4.65</td>\n",
       "      <td>-18.709677</td>\n",
       "      <td>0.87</td>\n",
       "    </tr>\n",
       "    <tr>\n",
       "      <th>28</th>\n",
       "      <td>Germany</td>\n",
       "      <td>5.25</td>\n",
       "      <td>4.39</td>\n",
       "      <td>-19.589977</td>\n",
       "      <td>0.86</td>\n",
       "    </tr>\n",
       "    <tr>\n",
       "      <th>36</th>\n",
       "      <td>Korea, Democratic People's Republic of</td>\n",
       "      <td>-15.90</td>\n",
       "      <td>-16.66</td>\n",
       "      <td>4.561825</td>\n",
       "      <td>0.76</td>\n",
       "    </tr>\n",
       "    <tr>\n",
       "      <th>82</th>\n",
       "      <td>Ukraine</td>\n",
       "      <td>-1.76</td>\n",
       "      <td>-1.02</td>\n",
       "      <td>-72.549020</td>\n",
       "      <td>0.74</td>\n",
       "    </tr>\n",
       "    <tr>\n",
       "      <th>80</th>\n",
       "      <td>Turkmenistan</td>\n",
       "      <td>10.31</td>\n",
       "      <td>9.58</td>\n",
       "      <td>-7.620042</td>\n",
       "      <td>0.73</td>\n",
       "    </tr>\n",
       "    <tr>\n",
       "      <th>0</th>\n",
       "      <td>Afghanistan</td>\n",
       "      <td>19.08</td>\n",
       "      <td>18.38</td>\n",
       "      <td>-3.808487</td>\n",
       "      <td>0.70</td>\n",
       "    </tr>\n",
       "  </tbody>\n",
       "</table>\n",
       "</div>"
      ],
      "text/plain": [
       "                                   country  predicted_lst  observed_lst  \\\n",
       "60                                  Norway          -8.72         -5.56   \n",
       "6                                  Belarus          -0.79          1.41   \n",
       "38                              Kyrgyzstan           8.92          7.01   \n",
       "73                  Svalbard and Jan Mayen         -10.72         -8.86   \n",
       "23                           Faroe Islands         -10.65         -8.88   \n",
       "66                      Russian Federation         -12.61        -14.34   \n",
       "40                                  Latvia           2.16          3.54   \n",
       "55                             Netherlands           5.77          4.50   \n",
       "22                                 Estonia          -0.69          0.44   \n",
       "50                                Mongolia           4.04          3.03   \n",
       "84                              Uzbekistan           9.29          8.32   \n",
       "20                          Czech Republic           5.49          4.53   \n",
       "76                              Tajikistan           8.58          7.66   \n",
       "45                                  Malawi          27.84         26.97   \n",
       "7                                  Belgium           5.52          4.65   \n",
       "28                                 Germany           5.25          4.39   \n",
       "36  Korea, Democratic People's Republic of         -15.90        -16.66   \n",
       "82                                 Ukraine          -1.76         -1.02   \n",
       "80                            Turkmenistan          10.31          9.58   \n",
       "0                              Afghanistan          19.08         18.38   \n",
       "\n",
       "         error  absolute_error  \n",
       "60  -56.834532            3.16  \n",
       "6   156.028369            2.20  \n",
       "38  -27.246790            1.91  \n",
       "73  -20.993228            1.86  \n",
       "23  -19.932432            1.77  \n",
       "66   12.064156            1.73  \n",
       "40   38.983051            1.38  \n",
       "55  -28.222222            1.27  \n",
       "22  256.818182            1.13  \n",
       "50  -33.333333            1.01  \n",
       "84  -11.658654            0.97  \n",
       "20  -21.192053            0.96  \n",
       "76  -12.010444            0.92  \n",
       "45   -3.225806            0.87  \n",
       "7   -18.709677            0.87  \n",
       "28  -19.589977            0.86  \n",
       "36    4.561825            0.76  \n",
       "82  -72.549020            0.74  \n",
       "80   -7.620042            0.73  \n",
       "0    -3.808487            0.70  "
      ]
     },
     "execution_count": 52,
     "metadata": {},
     "output_type": "execute_result"
    }
   ],
   "source": [
    "finetuned_results_df['absolute_error'] = abs(diff)\n",
    "finetuned_results_df.nlargest(20, 'absolute_error')"
   ]
  },
  {
   "cell_type": "code",
   "execution_count": 55,
   "id": "f928d4f4-5097-43fc-bfb0-d03be91d1c0d",
   "metadata": {},
   "outputs": [
    {
     "data": {
      "image/png": "[encoded data removed]",
      "text/plain": [
       "<Figure size 640x480 with 1 Axes>"
      ]
     },
     "metadata": {},
     "output_type": "display_data"
    }
   ],
   "source": [
    "diff = zero_shot_results_df['observed_lst'] - zero_shot_results_df['predicted_lst']\n",
    "zero_shot_results_df['error'] = (diff)/zero_shot_results_df['observed_lst'] * 100\n",
    "sns.histplot(finetuned_results_df['error'], kde=True)\n",
    "plt.xlabel('Percent Error (%)')\n",
    "plt.ylabel('Frequency')\n",
    "plt.title('Error Frequency: Predicting LST using Vanilla GPT 3.5 with 10-year sliding windows')\n",
    "plt.show()"
   ]
  },
  {
   "cell_type": "code",
   "execution_count": 56,
   "id": "fa7d0350-00e0-4622-a021-ff5ca9335364",
   "metadata": {},
   "outputs": [
    {
     "data": {
      "text/html": [
       "<div>\n",
       "<style scoped>\n",
       "    .dataframe tbody tr th:only-of-type {\n",
       "        vertical-align: middle;\n",
       "    }\n",
       "\n",
       "    .dataframe tbody tr th {\n",
       "        vertical-align: top;\n",
       "    }\n",
       "\n",
       "    .dataframe thead th {\n",
       "        text-align: right;\n",
       "    }\n",
       "</style>\n",
       "<table border=\"1\" class=\"dataframe\">\n",
       "  <thead>\n",
       "    <tr style=\"text-align: right;\">\n",
       "      <th></th>\n",
       "      <th>country</th>\n",
       "      <th>predicted_lst</th>\n",
       "      <th>observed_lst</th>\n",
       "      <th>absolute_error</th>\n",
       "      <th>error</th>\n",
       "    </tr>\n",
       "  </thead>\n",
       "  <tbody>\n",
       "    <tr>\n",
       "      <th>42</th>\n",
       "      <td>Lithuania</td>\n",
       "      <td>4.00</td>\n",
       "      <td>2.68</td>\n",
       "      <td>1.32</td>\n",
       "      <td>-49.253731</td>\n",
       "    </tr>\n",
       "    <tr>\n",
       "      <th>50</th>\n",
       "      <td>Mongolia</td>\n",
       "      <td>3.99</td>\n",
       "      <td>3.03</td>\n",
       "      <td>0.96</td>\n",
       "      <td>-31.683168</td>\n",
       "    </tr>\n",
       "    <tr>\n",
       "      <th>60</th>\n",
       "      <td>Norway</td>\n",
       "      <td>-4.70</td>\n",
       "      <td>-5.56</td>\n",
       "      <td>0.86</td>\n",
       "      <td>15.467626</td>\n",
       "    </tr>\n",
       "    <tr>\n",
       "      <th>38</th>\n",
       "      <td>Kyrgyzstan</td>\n",
       "      <td>7.75</td>\n",
       "      <td>7.01</td>\n",
       "      <td>0.74</td>\n",
       "      <td>-10.556348</td>\n",
       "    </tr>\n",
       "    <tr>\n",
       "      <th>55</th>\n",
       "      <td>Netherlands</td>\n",
       "      <td>5.23</td>\n",
       "      <td>4.50</td>\n",
       "      <td>0.73</td>\n",
       "      <td>-16.222222</td>\n",
       "    </tr>\n",
       "    <tr>\n",
       "      <th>7</th>\n",
       "      <td>Belgium</td>\n",
       "      <td>5.35</td>\n",
       "      <td>4.65</td>\n",
       "      <td>0.70</td>\n",
       "      <td>-15.053763</td>\n",
       "    </tr>\n",
       "    <tr>\n",
       "      <th>84</th>\n",
       "      <td>Uzbekistan</td>\n",
       "      <td>9.00</td>\n",
       "      <td>8.32</td>\n",
       "      <td>0.68</td>\n",
       "      <td>-8.173077</td>\n",
       "    </tr>\n",
       "    <tr>\n",
       "      <th>66</th>\n",
       "      <td>Russian Federation</td>\n",
       "      <td>-13.69</td>\n",
       "      <td>-14.34</td>\n",
       "      <td>0.65</td>\n",
       "      <td>4.532775</td>\n",
       "    </tr>\n",
       "    <tr>\n",
       "      <th>65</th>\n",
       "      <td>Poland</td>\n",
       "      <td>4.90</td>\n",
       "      <td>4.29</td>\n",
       "      <td>0.61</td>\n",
       "      <td>-14.219114</td>\n",
       "    </tr>\n",
       "    <tr>\n",
       "      <th>75</th>\n",
       "      <td>Sweden</td>\n",
       "      <td>-2.15</td>\n",
       "      <td>-2.74</td>\n",
       "      <td>0.59</td>\n",
       "      <td>21.532847</td>\n",
       "    </tr>\n",
       "    <tr>\n",
       "      <th>45</th>\n",
       "      <td>Malawi</td>\n",
       "      <td>27.53</td>\n",
       "      <td>26.97</td>\n",
       "      <td>0.56</td>\n",
       "      <td>-2.076381</td>\n",
       "    </tr>\n",
       "    <tr>\n",
       "      <th>28</th>\n",
       "      <td>Germany</td>\n",
       "      <td>4.95</td>\n",
       "      <td>4.39</td>\n",
       "      <td>0.56</td>\n",
       "      <td>-12.756264</td>\n",
       "    </tr>\n",
       "    <tr>\n",
       "      <th>73</th>\n",
       "      <td>Svalbard and Jan Mayen</td>\n",
       "      <td>-9.42</td>\n",
       "      <td>-8.86</td>\n",
       "      <td>0.56</td>\n",
       "      <td>-6.320542</td>\n",
       "    </tr>\n",
       "    <tr>\n",
       "      <th>8</th>\n",
       "      <td>Bhutan</td>\n",
       "      <td>17.12</td>\n",
       "      <td>16.58</td>\n",
       "      <td>0.54</td>\n",
       "      <td>-3.256936</td>\n",
       "    </tr>\n",
       "    <tr>\n",
       "      <th>69</th>\n",
       "      <td>Singapore</td>\n",
       "      <td>23.85</td>\n",
       "      <td>23.31</td>\n",
       "      <td>0.54</td>\n",
       "      <td>-2.316602</td>\n",
       "    </tr>\n",
       "    <tr>\n",
       "      <th>12</th>\n",
       "      <td>Cambodia</td>\n",
       "      <td>26.54</td>\n",
       "      <td>26.02</td>\n",
       "      <td>0.52</td>\n",
       "      <td>-1.998463</td>\n",
       "    </tr>\n",
       "    <tr>\n",
       "      <th>47</th>\n",
       "      <td>Marshall Islands</td>\n",
       "      <td>28.57</td>\n",
       "      <td>28.11</td>\n",
       "      <td>0.46</td>\n",
       "      <td>-1.636428</td>\n",
       "    </tr>\n",
       "    <tr>\n",
       "      <th>21</th>\n",
       "      <td>Denmark</td>\n",
       "      <td>4.57</td>\n",
       "      <td>4.11</td>\n",
       "      <td>0.46</td>\n",
       "      <td>-11.192214</td>\n",
       "    </tr>\n",
       "    <tr>\n",
       "      <th>15</th>\n",
       "      <td>China</td>\n",
       "      <td>14.70</td>\n",
       "      <td>14.24</td>\n",
       "      <td>0.46</td>\n",
       "      <td>-3.230337</td>\n",
       "    </tr>\n",
       "    <tr>\n",
       "      <th>86</th>\n",
       "      <td>Zambia</td>\n",
       "      <td>27.58</td>\n",
       "      <td>27.12</td>\n",
       "      <td>0.46</td>\n",
       "      <td>-1.696165</td>\n",
       "    </tr>\n",
       "  </tbody>\n",
       "</table>\n",
       "</div>"
      ],
      "text/plain": [
       "                   country  predicted_lst  observed_lst  absolute_error  \\\n",
       "42               Lithuania           4.00          2.68            1.32   \n",
       "50                Mongolia           3.99          3.03            0.96   \n",
       "60                  Norway          -4.70         -5.56            0.86   \n",
       "38              Kyrgyzstan           7.75          7.01            0.74   \n",
       "55             Netherlands           5.23          4.50            0.73   \n",
       "7                  Belgium           5.35          4.65            0.70   \n",
       "84              Uzbekistan           9.00          8.32            0.68   \n",
       "66      Russian Federation         -13.69        -14.34            0.65   \n",
       "65                  Poland           4.90          4.29            0.61   \n",
       "75                  Sweden          -2.15         -2.74            0.59   \n",
       "45                  Malawi          27.53         26.97            0.56   \n",
       "28                 Germany           4.95          4.39            0.56   \n",
       "73  Svalbard and Jan Mayen          -9.42         -8.86            0.56   \n",
       "8                   Bhutan          17.12         16.58            0.54   \n",
       "69               Singapore          23.85         23.31            0.54   \n",
       "12                Cambodia          26.54         26.02            0.52   \n",
       "47        Marshall Islands          28.57         28.11            0.46   \n",
       "21                 Denmark           4.57          4.11            0.46   \n",
       "15                   China          14.70         14.24            0.46   \n",
       "86                  Zambia          27.58         27.12            0.46   \n",
       "\n",
       "        error  \n",
       "42 -49.253731  \n",
       "50 -31.683168  \n",
       "60  15.467626  \n",
       "38 -10.556348  \n",
       "55 -16.222222  \n",
       "7  -15.053763  \n",
       "84  -8.173077  \n",
       "66   4.532775  \n",
       "65 -14.219114  \n",
       "75  21.532847  \n",
       "45  -2.076381  \n",
       "28 -12.756264  \n",
       "73  -6.320542  \n",
       "8   -3.256936  \n",
       "69  -2.316602  \n",
       "12  -1.998463  \n",
       "47  -1.636428  \n",
       "21 -11.192214  \n",
       "15  -3.230337  \n",
       "86  -1.696165  "
      ]
     },
     "execution_count": 56,
     "metadata": {},
     "output_type": "execute_result"
    }
   ],
   "source": [
    "zero_shot_results_df['absolute_error'] = abs(diff)\n",
    "zero_shot_results_df.nlargest(20, 'absolute_error')"
   ]
  },
  {
   "cell_type": "code",
   "execution_count": 59,
   "id": "63a6d1ba-f030-49c0-abad-03aea5a3c847",
   "metadata": {},
   "outputs": [],
   "source": [
    "one_shot_results_df = pd.read_csv('../data/CRU/test_cleaned_LST_one_shot_predictions.csv')"
   ]
  },
  {
   "cell_type": "code",
   "execution_count": 62,
   "id": "a2abd363-2e5f-4d11-a845-51b4147a4f0c",
   "metadata": {},
   "outputs": [
    {
     "name": "stdout",
     "output_type": "stream",
     "text": [
      "One Shot MAE =  0.2776136363636366\n",
      "One Shot MAPE =  0.0656451651398053\n"
     ]
    }
   ],
   "source": [
    "os_mae = error_mae(one_shot_results_df['predicted_lst'],\n",
    "                          one_shot_results_df['observed_lst'])\n",
    "print('One Shot MAE = ', os_mae)\n",
    "\n",
    "os_mape = error_mape(one_shot_results_df['predicted_lst'],\n",
    "                          one_shot_results_df['observed_lst'])\n",
    "print('One Shot MAPE = ', os_mape)"
   ]
  },
  {
   "cell_type": "code",
   "execution_count": 89,
   "id": "35fe71ce-77fc-4311-83f1-850ebff4e807",
   "metadata": {},
   "outputs": [],
   "source": [
    "finetuned_results_df = pd.read_csv('../data/CRU/test_cleaned_LST_growth_finetuned_predictions.csv')\n",
    "zero_shot_results_df = pd.read_csv('../data/CRU/test_cleaned_LST_growth_zero_shot_predictions.csv')\n",
    "avg_t1_results_df = pd.read_csv('../data/CRU/test_lst_growth_baselines.csv')\n",
    "one_shot_results_df = pd.read_csv('../data/CRU/test_cleaned_LST_growth_one_shot_predictions.csv')"
   ]
  },
  {
   "cell_type": "code",
   "execution_count": 90,
   "id": "3621bf94-389a-4963-8741-b179c48af891",
   "metadata": {},
   "outputs": [
    {
     "name": "stdout",
     "output_type": "stream",
     "text": [
      "Average Val MAE =  0.440909090909091\n",
      "Average Val MAPE =  1.1363636363636364e+28\n"
     ]
    }
   ],
   "source": [
    "avg_mae = error_mae(avg_t1_results_df['averaged'],\n",
    "                          avg_t1_results_df['observed'])\n",
    "print('Average Val MAE = ', avg_mae)\n",
    "\n",
    "avg_mape = error_mape(avg_t1_results_df['averaged'],\n",
    "                          avg_t1_results_df['observed'])\n",
    "print('Average Val MAPE = ', avg_mape)"
   ]
  },
  {
   "cell_type": "code",
   "execution_count": 91,
   "id": "98589090-a759-4442-b89e-1555e72ab814",
   "metadata": {},
   "outputs": [
    {
     "name": "stdout",
     "output_type": "stream",
     "text": [
      "T-1 MAE =  0.6522727272727272\n",
      "T-1 MAPE =  1.931818181818182e+29\n"
     ]
    }
   ],
   "source": [
    "t1_mae = error_mae(avg_t1_results_df['previous'],\n",
    "                          avg_t1_results_df['observed'])\n",
    "print('T-1 MAE = ', t1_mae)\n",
    "\n",
    "t1_mape = error_mape(avg_t1_results_df['previous'],\n",
    "                          avg_t1_results_df['observed'])\n",
    "print('T-1 MAPE = ', t1_mape)"
   ]
  },
  {
   "cell_type": "code",
   "execution_count": 92,
   "id": "38b97a72-3aeb-4283-9761-37cc72b478e7",
   "metadata": {},
   "outputs": [
    {
     "name": "stdout",
     "output_type": "stream",
     "text": [
      "Finetuned MAE =  0.4048863636363636\n",
      "Finetuned MAPE =  1.931818181818182e+29\n"
     ]
    }
   ],
   "source": [
    "finetuned_mae = error_mae(finetuned_results_df['predicted_lst_growth'],\n",
    "                          finetuned_results_df['observed_lst_growth'])\n",
    "print('Finetuned MAE = ', finetuned_mae)\n",
    "\n",
    "finetuned_mape = error_mape(finetuned_results_df['predicted_lst_growth'],\n",
    "                          finetuned_results_df['observed_lst_growth'])\n",
    "print('Finetuned MAPE = ', finetuned_mape)"
   ]
  },
  {
   "cell_type": "code",
   "execution_count": null,
   "id": "eece36d5-0cb0-4c0a-b11e-52c714a253e7",
   "metadata": {},
   "outputs": [],
   "source": []
  }
 ],
 "metadata": {
  "kernelspec": {
   "display_name": "Python 3 (ipykernel)",
   "language": "python",
   "name": "python3"
  },
  "language_info": {
   "codemirror_mode": {
    "name": "ipython",
    "version": 3
   },
   "file_extension": ".py",
   "mimetype": "text/x-python",
   "name": "python",
   "nbconvert_exporter": "python",
   "pygments_lexer": "ipython3",
   "version": "3.10.4"
  }
 },
 "nbformat": 4,
 "nbformat_minor": 5
}
