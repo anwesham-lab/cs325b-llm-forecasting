{
 "cells": [
  {
   "cell_type": "code",
   "execution_count": 1,
   "id": "ddeeae9d-3b49-43a3-9d6b-3be1edb7e6fe",
   "metadata": {},
   "outputs": [],
   "source": [
    "import numpy as np\n",
    "import pandas as pd\n",
    "\n",
    "import seaborn as sns\n",
    "import matplotlib.pyplot as plt\n",
    "import random"
   ]
  },
  {
   "cell_type": "code",
   "execution_count": 2,
   "id": "99fdf73b-8486-4ed6-9bf2-f85a03e0b239",
   "metadata": {},
   "outputs": [],
   "source": [
    "def error_mae(y_hat, y_true):\n",
    "  '''\n",
    "  Given a set of predicted values and the true labels as lists,\n",
    "  return a scalar value containing the mean absolute error between\n",
    "  the two\n",
    "  '''\n",
    "  err = y_true - y_hat\n",
    "  abs_err = np.abs(err)\n",
    "  mae = np.mean(abs_err)/1000 #rescale\n",
    "  return mae"
   ]
  },
  {
   "cell_type": "code",
   "execution_count": 3,
   "id": "12026d34-ddd6-48bd-b781-36fe7414ce71",
   "metadata": {},
   "outputs": [],
   "source": [
    "def error_mape(y_hat, y_true):\n",
    "  '''\n",
    "  Given a set of predicted values and the true labels as lists,\n",
    "  return a scalar value containing the mean absolute predicted\n",
    "  error between the two\n",
    "  mape = average of |(y_true - y_hat)/y_true|\n",
    "  https://en.wikipedia.org/wiki/Mean_absolute_percentage_error\n",
    "  '''\n",
    "  err = y_true - y_hat\n",
    "  relative_err = err/y_true\n",
    "  abs_relative_err = np.abs(relative_err)\n",
    "  mape = np.mean(abs_relative_err)\n",
    "  return mape"
   ]
  },
  {
   "cell_type": "code",
   "execution_count": 4,
   "id": "ab5794fe-2cb2-417e-bbc1-5c6e89495111",
   "metadata": {},
   "outputs": [],
   "source": [
    "finetuned_results_df = pd.read_csv('../data/ILI/test_cleaned_month_ILI_finetuned_predictions.csv')\n",
    "zero_shot_results_df = pd.read_csv('../data/ILI/test_cleaned_month_ILI_zero_shot_predictions.csv')\n",
    "avg_t1_results_df = pd.read_csv('../data/ILI/test_ili_baselines.csv')"
   ]
  },
  {
   "cell_type": "code",
   "execution_count": 5,
   "id": "c1dcbae8-7f11-4324-ac11-e65aee1df9b4",
   "metadata": {},
   "outputs": [
    {
     "data": {
      "text/html": [
       "<div>\n",
       "<style scoped>\n",
       "    .dataframe tbody tr th:only-of-type {\n",
       "        vertical-align: middle;\n",
       "    }\n",
       "\n",
       "    .dataframe tbody tr th {\n",
       "        vertical-align: top;\n",
       "    }\n",
       "\n",
       "    .dataframe thead th {\n",
       "        text-align: right;\n",
       "    }\n",
       "</style>\n",
       "<table border=\"1\" class=\"dataframe\">\n",
       "  <thead>\n",
       "    <tr style=\"text-align: right;\">\n",
       "      <th></th>\n",
       "      <th>demographic</th>\n",
       "      <th>month</th>\n",
       "      <th>predicted_ili</th>\n",
       "      <th>observed_ili</th>\n",
       "    </tr>\n",
       "  </thead>\n",
       "  <tbody>\n",
       "    <tr>\n",
       "      <th>0</th>\n",
       "      <td>age 0-4</td>\n",
       "      <td>1</td>\n",
       "      <td>54432.0</td>\n",
       "      <td>70214.0</td>\n",
       "    </tr>\n",
       "    <tr>\n",
       "      <th>1</th>\n",
       "      <td>age 0-4</td>\n",
       "      <td>2</td>\n",
       "      <td>15479.0</td>\n",
       "      <td>26458.0</td>\n",
       "    </tr>\n",
       "    <tr>\n",
       "      <th>2</th>\n",
       "      <td>age 0-4</td>\n",
       "      <td>3</td>\n",
       "      <td>45585.0</td>\n",
       "      <td>33978.0</td>\n",
       "    </tr>\n",
       "    <tr>\n",
       "      <th>3</th>\n",
       "      <td>age 0-4</td>\n",
       "      <td>4</td>\n",
       "      <td>36733.0</td>\n",
       "      <td>43238.0</td>\n",
       "    </tr>\n",
       "    <tr>\n",
       "      <th>4</th>\n",
       "      <td>age 0-4</td>\n",
       "      <td>5</td>\n",
       "      <td>50348.0</td>\n",
       "      <td>70628.0</td>\n",
       "    </tr>\n",
       "  </tbody>\n",
       "</table>\n",
       "</div>"
      ],
      "text/plain": [
       "  demographic  month  predicted_ili  observed_ili\n",
       "0     age 0-4      1        54432.0       70214.0\n",
       "1     age 0-4      2        15479.0       26458.0\n",
       "2     age 0-4      3        45585.0       33978.0\n",
       "3     age 0-4      4        36733.0       43238.0\n",
       "4     age 0-4      5        50348.0       70628.0"
      ]
     },
     "execution_count": 5,
     "metadata": {},
     "output_type": "execute_result"
    }
   ],
   "source": [
    "finetuned_results_df.head()"
   ]
  },
  {
   "cell_type": "code",
   "execution_count": 6,
   "id": "9a9b419b-00d5-43b4-9664-3b0a607dd51f",
   "metadata": {},
   "outputs": [
    {
     "data": {
      "text/html": [
       "<div>\n",
       "<style scoped>\n",
       "    .dataframe tbody tr th:only-of-type {\n",
       "        vertical-align: middle;\n",
       "    }\n",
       "\n",
       "    .dataframe tbody tr th {\n",
       "        vertical-align: top;\n",
       "    }\n",
       "\n",
       "    .dataframe thead th {\n",
       "        text-align: right;\n",
       "    }\n",
       "</style>\n",
       "<table border=\"1\" class=\"dataframe\">\n",
       "  <thead>\n",
       "    <tr style=\"text-align: right;\">\n",
       "      <th></th>\n",
       "      <th>demographic</th>\n",
       "      <th>month</th>\n",
       "      <th>predicted_ili</th>\n",
       "      <th>observed_ili</th>\n",
       "    </tr>\n",
       "  </thead>\n",
       "  <tbody>\n",
       "    <tr>\n",
       "      <th>0</th>\n",
       "      <td>age 0-4</td>\n",
       "      <td>1</td>\n",
       "      <td>31563.0</td>\n",
       "      <td>70214.0</td>\n",
       "    </tr>\n",
       "    <tr>\n",
       "      <th>1</th>\n",
       "      <td>age 0-4</td>\n",
       "      <td>2</td>\n",
       "      <td>30750.0</td>\n",
       "      <td>26458.0</td>\n",
       "    </tr>\n",
       "    <tr>\n",
       "      <th>2</th>\n",
       "      <td>age 0-4</td>\n",
       "      <td>3</td>\n",
       "      <td>27000.0</td>\n",
       "      <td>33978.0</td>\n",
       "    </tr>\n",
       "    <tr>\n",
       "      <th>3</th>\n",
       "      <td>age 0-4</td>\n",
       "      <td>4</td>\n",
       "      <td>17000.0</td>\n",
       "      <td>43238.0</td>\n",
       "    </tr>\n",
       "    <tr>\n",
       "      <th>4</th>\n",
       "      <td>age 0-4</td>\n",
       "      <td>5</td>\n",
       "      <td>10667.0</td>\n",
       "      <td>70628.0</td>\n",
       "    </tr>\n",
       "  </tbody>\n",
       "</table>\n",
       "</div>"
      ],
      "text/plain": [
       "  demographic  month  predicted_ili  observed_ili\n",
       "0     age 0-4      1        31563.0       70214.0\n",
       "1     age 0-4      2        30750.0       26458.0\n",
       "2     age 0-4      3        27000.0       33978.0\n",
       "3     age 0-4      4        17000.0       43238.0\n",
       "4     age 0-4      5        10667.0       70628.0"
      ]
     },
     "execution_count": 6,
     "metadata": {},
     "output_type": "execute_result"
    }
   ],
   "source": [
    "zero_shot_results_df.head()"
   ]
  },
  {
   "cell_type": "code",
   "execution_count": 7,
   "id": "ee53581b-be27-42e4-a587-9e4021e51e0e",
   "metadata": {},
   "outputs": [
    {
     "data": {
      "text/html": [
       "<div>\n",
       "<style scoped>\n",
       "    .dataframe tbody tr th:only-of-type {\n",
       "        vertical-align: middle;\n",
       "    }\n",
       "\n",
       "    .dataframe tbody tr th {\n",
       "        vertical-align: top;\n",
       "    }\n",
       "\n",
       "    .dataframe thead th {\n",
       "        text-align: right;\n",
       "    }\n",
       "</style>\n",
       "<table border=\"1\" class=\"dataframe\">\n",
       "  <thead>\n",
       "    <tr style=\"text-align: right;\">\n",
       "      <th></th>\n",
       "      <th>demographic</th>\n",
       "      <th>month</th>\n",
       "      <th>averaged_ili</th>\n",
       "      <th>last_ili</th>\n",
       "      <th>observed_ili</th>\n",
       "    </tr>\n",
       "  </thead>\n",
       "  <tbody>\n",
       "    <tr>\n",
       "      <th>0</th>\n",
       "      <td>age 0-4</td>\n",
       "      <td>1</td>\n",
       "      <td>38033.7</td>\n",
       "      <td>12414.0</td>\n",
       "      <td>70214.0</td>\n",
       "    </tr>\n",
       "    <tr>\n",
       "      <th>1</th>\n",
       "      <td>age 0-4</td>\n",
       "      <td>2</td>\n",
       "      <td>38980.9</td>\n",
       "      <td>10057.0</td>\n",
       "      <td>26458.0</td>\n",
       "    </tr>\n",
       "    <tr>\n",
       "      <th>2</th>\n",
       "      <td>age 0-4</td>\n",
       "      <td>3</td>\n",
       "      <td>31940.5</td>\n",
       "      <td>13325.0</td>\n",
       "      <td>33978.0</td>\n",
       "    </tr>\n",
       "    <tr>\n",
       "      <th>3</th>\n",
       "      <td>age 0-4</td>\n",
       "      <td>4</td>\n",
       "      <td>19440.4</td>\n",
       "      <td>19847.0</td>\n",
       "      <td>43238.0</td>\n",
       "    </tr>\n",
       "    <tr>\n",
       "      <th>4</th>\n",
       "      <td>age 0-4</td>\n",
       "      <td>5</td>\n",
       "      <td>15938.8</td>\n",
       "      <td>36828.0</td>\n",
       "      <td>70628.0</td>\n",
       "    </tr>\n",
       "  </tbody>\n",
       "</table>\n",
       "</div>"
      ],
      "text/plain": [
       "  demographic  month  averaged_ili  last_ili  observed_ili\n",
       "0     age 0-4      1       38033.7   12414.0       70214.0\n",
       "1     age 0-4      2       38980.9   10057.0       26458.0\n",
       "2     age 0-4      3       31940.5   13325.0       33978.0\n",
       "3     age 0-4      4       19440.4   19847.0       43238.0\n",
       "4     age 0-4      5       15938.8   36828.0       70628.0"
      ]
     },
     "execution_count": 7,
     "metadata": {},
     "output_type": "execute_result"
    }
   ],
   "source": [
    "avg_t1_results_df.head()"
   ]
  },
  {
   "cell_type": "code",
   "execution_count": 8,
   "id": "62f06a52-597f-4636-9cf0-3a9ca30d4032",
   "metadata": {},
   "outputs": [
    {
     "name": "stdout",
     "output_type": "stream",
     "text": [
      "Finetuned MAE =  22.5897\n",
      "Finetuned MAPE =  0.5161353838070679\n"
     ]
    }
   ],
   "source": [
    "finetuned_mae = error_mae(finetuned_results_df['predicted_ili'],\n",
    "                          finetuned_results_df['observed_ili'])\n",
    "print('Finetuned MAE = ', finetuned_mae)\n",
    "\n",
    "finetuned_mape = error_mape(finetuned_results_df['predicted_ili'],\n",
    "                          finetuned_results_df['observed_ili'])\n",
    "print('Finetuned MAPE = ', finetuned_mape)"
   ]
  },
  {
   "cell_type": "code",
   "execution_count": 9,
   "id": "6c13786c-ff64-4a23-a84a-3c22dfd98b86",
   "metadata": {},
   "outputs": [
    {
     "name": "stdout",
     "output_type": "stream",
     "text": [
      "Zero Shot MAE =  36.59464285714286\n",
      "Zero Shot MAPE =  0.7126896104204424\n"
     ]
    }
   ],
   "source": [
    "zs_mae = error_mae(zero_shot_results_df['predicted_ili'],\n",
    "                          zero_shot_results_df['observed_ili'])\n",
    "print('Zero Shot MAE = ', zs_mae)\n",
    "\n",
    "zs_mape = error_mape(zero_shot_results_df['predicted_ili'],\n",
    "                          zero_shot_results_df['observed_ili'])\n",
    "print('Zero Shot MAPE = ', zs_mape)"
   ]
  },
  {
   "cell_type": "code",
   "execution_count": 10,
   "id": "c750137c-9013-47ac-93ab-8866db955981",
   "metadata": {},
   "outputs": [
    {
     "name": "stdout",
     "output_type": "stream",
     "text": [
      "Average Val MAE =  34.992425714285716\n",
      "Average Val MAPE =  0.5966266810325748\n"
     ]
    }
   ],
   "source": [
    "avg_mae = error_mae(avg_t1_results_df['averaged_ili'],\n",
    "                          avg_t1_results_df['observed_ili'])\n",
    "print('Average Val MAE = ', avg_mae)\n",
    "\n",
    "avg_mape = error_mape(avg_t1_results_df['averaged_ili'],\n",
    "                          avg_t1_results_df['observed_ili'])\n",
    "print('Average Val MAPE = ', avg_mape)"
   ]
  },
  {
   "cell_type": "code",
   "execution_count": 11,
   "id": "6e10e99b-ab71-483a-bfb8-73ee35696264",
   "metadata": {},
   "outputs": [
    {
     "name": "stdout",
     "output_type": "stream",
     "text": [
      "T-1 MAE =  31.070742857142857\n",
      "T-1 MAPE =  0.5160859818561004\n"
     ]
    }
   ],
   "source": [
    "t1_mae = error_mae(avg_t1_results_df['last_ili'],\n",
    "                          avg_t1_results_df['observed_ili'])\n",
    "print('T-1 MAE = ', t1_mae)\n",
    "\n",
    "t1_mape = error_mape(avg_t1_results_df['last_ili'],\n",
    "                          avg_t1_results_df['observed_ili'])\n",
    "print('T-1 MAPE = ', t1_mape)"
   ]
  }
 ],
 "metadata": {
  "kernelspec": {
   "display_name": "Python 3 (ipykernel)",
   "language": "python",
   "name": "python3"
  },
  "language_info": {
   "codemirror_mode": {
    "name": "ipython",
    "version": 3
   },
   "file_extension": ".py",
   "mimetype": "text/x-python",
   "name": "python",
   "nbconvert_exporter": "python",
   "pygments_lexer": "ipython3",
   "version": "3.10.4"
  }
 },
 "nbformat": 4,
 "nbformat_minor": 5
}
