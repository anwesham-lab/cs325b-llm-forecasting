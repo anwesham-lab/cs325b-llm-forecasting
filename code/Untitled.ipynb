{
 "cells": [
  {
   "cell_type": "code",
   "execution_count": 6,
   "id": "38b5a49f-c3e8-43fc-b3e4-7ae5b688e27b",
   "metadata": {},
   "outputs": [
    {
     "name": "stdout",
     "output_type": "stream",
     "text": [
      "../data/CRU/cru_ts4.07.1901.2022.tmp.dat.nc.gz\n"
     ]
    }
   ],
   "source": [
    "! ls ../data/CRU/cru_ts4.07.1901.2022.tmp.dat.nc.gz"
   ]
  },
  {
   "cell_type": "code",
   "execution_count": 8,
   "id": "7a4c84b2-3926-4242-97a4-f84f45c8e46b",
   "metadata": {},
   "outputs": [
    {
     "name": "stdout",
     "output_type": "stream",
     "text": [
      "Collecting netCDF4\n",
      "  Downloading netCDF4-1.6.5-cp310-cp310-macosx_10_9_x86_64.whl.metadata (1.8 kB)\n",
      "Collecting cftime (from netCDF4)\n",
      "  Downloading cftime-1.6.3-cp310-cp310-macosx_10_9_x86_64.whl.metadata (8.6 kB)\n",
      "Requirement already satisfied: certifi in /Users/anwesha/miniconda3/envs/cs325/lib/python3.10/site-packages (from netCDF4) (2023.11.17)\n",
      "Requirement already satisfied: numpy in /Users/anwesha/miniconda3/envs/cs325/lib/python3.10/site-packages (from netCDF4) (1.26.2)\n",
      "Downloading netCDF4-1.6.5-cp310-cp310-macosx_10_9_x86_64.whl (7.5 MB)\n",
      "\u001b[2K   \u001b[90m━━━━━━━━━━━━━━━━━━━━━━━━━━━━━━━━━━━━━━━━\u001b[0m \u001b[32m7.5/7.5 MB\u001b[0m \u001b[31m10.6 MB/s\u001b[0m eta \u001b[36m0:00:00\u001b[0m00:01\u001b[0m00:01\u001b[0m\n",
      "\u001b[?25hDownloading cftime-1.6.3-cp310-cp310-macosx_10_9_x86_64.whl (253 kB)\n",
      "\u001b[2K   \u001b[90m━━━━━━━━━━━━━━━━━━━━━━━━━━━━━━━━━━━━━━━━\u001b[0m \u001b[32m253.6/253.6 kB\u001b[0m \u001b[31m4.9 MB/s\u001b[0m eta \u001b[36m0:00:00\u001b[0mta \u001b[36m0:00:01\u001b[0m\n",
      "\u001b[?25hInstalling collected packages: cftime, netCDF4\n",
      "Successfully installed cftime-1.6.3 netCDF4-1.6.5\n",
      "Requirement already satisfied: matplotlib in /Users/anwesha/miniconda3/envs/cs325/lib/python3.10/site-packages (3.8.2)\n",
      "Requirement already satisfied: contourpy>=1.0.1 in /Users/anwesha/miniconda3/envs/cs325/lib/python3.10/site-packages (from matplotlib) (1.2.0)\n",
      "Requirement already satisfied: cycler>=0.10 in /Users/anwesha/miniconda3/envs/cs325/lib/python3.10/site-packages (from matplotlib) (0.12.1)\n",
      "Requirement already satisfied: fonttools>=4.22.0 in /Users/anwesha/miniconda3/envs/cs325/lib/python3.10/site-packages (from matplotlib) (4.46.0)\n",
      "Requirement already satisfied: kiwisolver>=1.3.1 in /Users/anwesha/miniconda3/envs/cs325/lib/python3.10/site-packages (from matplotlib) (1.4.5)\n",
      "Requirement already satisfied: numpy<2,>=1.21 in /Users/anwesha/miniconda3/envs/cs325/lib/python3.10/site-packages (from matplotlib) (1.26.2)\n",
      "Requirement already satisfied: packaging>=20.0 in /Users/anwesha/miniconda3/envs/cs325/lib/python3.10/site-packages (from matplotlib) (23.2)\n",
      "Requirement already satisfied: pillow>=8 in /Users/anwesha/miniconda3/envs/cs325/lib/python3.10/site-packages (from matplotlib) (10.1.0)\n",
      "Requirement already satisfied: pyparsing>=2.3.1 in /Users/anwesha/miniconda3/envs/cs325/lib/python3.10/site-packages (from matplotlib) (3.1.1)\n",
      "Requirement already satisfied: python-dateutil>=2.7 in /Users/anwesha/miniconda3/envs/cs325/lib/python3.10/site-packages (from matplotlib) (2.8.2)\n",
      "Requirement already satisfied: six>=1.5 in /Users/anwesha/miniconda3/envs/cs325/lib/python3.10/site-packages (from python-dateutil>=2.7->matplotlib) (1.16.0)\n",
      "Collecting cartopy\n",
      "  Downloading Cartopy-0.22.0-cp310-cp310-macosx_10_9_x86_64.whl.metadata (15 kB)\n",
      "Requirement already satisfied: numpy>=1.21 in /Users/anwesha/miniconda3/envs/cs325/lib/python3.10/site-packages (from cartopy) (1.26.2)\n",
      "Requirement already satisfied: matplotlib>=3.4 in /Users/anwesha/miniconda3/envs/cs325/lib/python3.10/site-packages (from cartopy) (3.8.2)\n",
      "Collecting shapely>=1.7 (from cartopy)\n",
      "  Downloading shapely-2.0.2-cp310-cp310-macosx_10_9_x86_64.whl.metadata (7.0 kB)\n",
      "Requirement already satisfied: packaging>=20 in /Users/anwesha/miniconda3/envs/cs325/lib/python3.10/site-packages (from cartopy) (23.2)\n",
      "Collecting pyshp>=2.1 (from cartopy)\n",
      "  Downloading pyshp-2.3.1-py2.py3-none-any.whl (46 kB)\n",
      "\u001b[2K     \u001b[90m━━━━━━━━━━━━━━━━━━━━━━━━━━━━━━━━━━━━━━━━\u001b[0m \u001b[32m46.5/46.5 kB\u001b[0m \u001b[31m1.2 MB/s\u001b[0m eta \u001b[36m0:00:00\u001b[0m\n",
      "\u001b[?25hCollecting pyproj>=3.1.0 (from cartopy)\n",
      "  Downloading pyproj-3.6.1-cp310-cp310-macosx_10_9_x86_64.whl.metadata (31 kB)\n",
      "Requirement already satisfied: contourpy>=1.0.1 in /Users/anwesha/miniconda3/envs/cs325/lib/python3.10/site-packages (from matplotlib>=3.4->cartopy) (1.2.0)\n",
      "Requirement already satisfied: cycler>=0.10 in /Users/anwesha/miniconda3/envs/cs325/lib/python3.10/site-packages (from matplotlib>=3.4->cartopy) (0.12.1)\n",
      "Requirement already satisfied: fonttools>=4.22.0 in /Users/anwesha/miniconda3/envs/cs325/lib/python3.10/site-packages (from matplotlib>=3.4->cartopy) (4.46.0)\n",
      "Requirement already satisfied: kiwisolver>=1.3.1 in /Users/anwesha/miniconda3/envs/cs325/lib/python3.10/site-packages (from matplotlib>=3.4->cartopy) (1.4.5)\n",
      "Requirement already satisfied: pillow>=8 in /Users/anwesha/miniconda3/envs/cs325/lib/python3.10/site-packages (from matplotlib>=3.4->cartopy) (10.1.0)\n",
      "Requirement already satisfied: pyparsing>=2.3.1 in /Users/anwesha/miniconda3/envs/cs325/lib/python3.10/site-packages (from matplotlib>=3.4->cartopy) (3.1.1)\n",
      "Requirement already satisfied: python-dateutil>=2.7 in /Users/anwesha/miniconda3/envs/cs325/lib/python3.10/site-packages (from matplotlib>=3.4->cartopy) (2.8.2)\n",
      "Requirement already satisfied: certifi in /Users/anwesha/miniconda3/envs/cs325/lib/python3.10/site-packages (from pyproj>=3.1.0->cartopy) (2023.11.17)\n",
      "Requirement already satisfied: six>=1.5 in /Users/anwesha/miniconda3/envs/cs325/lib/python3.10/site-packages (from python-dateutil>=2.7->matplotlib>=3.4->cartopy) (1.16.0)\n",
      "Downloading Cartopy-0.22.0-cp310-cp310-macosx_10_9_x86_64.whl (11.2 MB)\n",
      "\u001b[2K   \u001b[90m━━━━━━━━━━━━━━━━━━━━━━━━━━━━━━━━━━━━━━━━\u001b[0m \u001b[32m11.2/11.2 MB\u001b[0m \u001b[31m11.9 MB/s\u001b[0m eta \u001b[36m0:00:00\u001b[0m00:01\u001b[0m00:01\u001b[0m\n",
      "\u001b[?25hDownloading pyproj-3.6.1-cp310-cp310-macosx_10_9_x86_64.whl (6.1 MB)\n",
      "\u001b[2K   \u001b[90m━━━━━━━━━━━━━━━━━━━━━━━━━━━━━━━━━━━━━━━━\u001b[0m \u001b[32m6.1/6.1 MB\u001b[0m \u001b[31m12.0 MB/s\u001b[0m eta \u001b[36m0:00:00\u001b[0m00:01\u001b[0m00:01\u001b[0m\n",
      "\u001b[?25hDownloading shapely-2.0.2-cp310-cp310-macosx_10_9_x86_64.whl (1.4 MB)\n",
      "\u001b[2K   \u001b[90m━━━━━━━━━━━━━━━━━━━━━━━━━━━━━━━━━━━━━━━━\u001b[0m \u001b[32m1.4/1.4 MB\u001b[0m \u001b[31m9.5 MB/s\u001b[0m eta \u001b[36m0:00:00\u001b[0mta \u001b[36m0:00:01\u001b[0m\n",
      "\u001b[?25hInstalling collected packages: shapely, pyshp, pyproj, cartopy\n",
      "Successfully installed cartopy-0.22.0 pyproj-3.6.1 pyshp-2.3.1 shapely-2.0.2\n"
     ]
    }
   ],
   "source": [
    "! pip install netCDF4 \n",
    "! pip install --upgrade matplotlib\n",
    "! pip install cartopy"
   ]
  },
  {
   "cell_type": "code",
   "execution_count": 9,
   "id": "340456b9-ab33-4146-8c5b-eadcbfb82e28",
   "metadata": {},
   "outputs": [
    {
     "ename": "ModuleNotFoundError",
     "evalue": "No module named 'mpl_toolkits.basemap'",
     "output_type": "error",
     "traceback": [
      "\u001b[0;31m---------------------------------------------------------------------------\u001b[0m",
      "\u001b[0;31mModuleNotFoundError\u001b[0m                       Traceback (most recent call last)",
      "Cell \u001b[0;32mIn[9], line 4\u001b[0m\n\u001b[1;32m      2\u001b[0m \u001b[38;5;28;01mimport\u001b[39;00m \u001b[38;5;21;01mmatplotlib\u001b[39;00m\u001b[38;5;21;01m.\u001b[39;00m\u001b[38;5;21;01mpyplot\u001b[39;00m \u001b[38;5;28;01mas\u001b[39;00m \u001b[38;5;21;01mplt\u001b[39;00m\n\u001b[1;32m      3\u001b[0m \u001b[38;5;28;01mimport\u001b[39;00m \u001b[38;5;21;01mnetCDF4\u001b[39;00m\n\u001b[0;32m----> 4\u001b[0m \u001b[38;5;28;01mfrom\u001b[39;00m \u001b[38;5;21;01mmpl_toolkits\u001b[39;00m\u001b[38;5;21;01m.\u001b[39;00m\u001b[38;5;21;01mbasemap\u001b[39;00m \u001b[38;5;28;01mimport\u001b[39;00m Basemap\n\u001b[1;32m      5\u001b[0m \u001b[38;5;28;01mimport\u001b[39;00m \u001b[38;5;21;01mcartopy\u001b[39;00m\u001b[38;5;21;01m.\u001b[39;00m\u001b[38;5;21;01mcrs\u001b[39;00m \u001b[38;5;28;01mas\u001b[39;00m \u001b[38;5;21;01mccrs\u001b[39;00m\n\u001b[1;32m      6\u001b[0m \u001b[38;5;28;01mimport\u001b[39;00m \u001b[38;5;21;01mcsv\u001b[39;00m\n",
      "\u001b[0;31mModuleNotFoundError\u001b[0m: No module named 'mpl_toolkits.basemap'"
     ]
    }
   ],
   "source": [
    "import numpy as np\n",
    "import matplotlib.pyplot as plt\n",
    "import netCDF4\n",
    "from mpl_toolkits.basemap import Basemap\n",
    "import cartopy.crs as ccrs\n",
    "import csv"
   ]
  },
  {
   "cell_type": "code",
   "execution_count": null,
   "id": "e5bf58bc-1dfc-4036-851c-9ee731d2e6a1",
   "metadata": {},
   "outputs": [],
   "source": []
  }
 ],
 "metadata": {
  "kernelspec": {
   "display_name": "Python 3 (ipykernel)",
   "language": "python",
   "name": "python3"
  },
  "language_info": {
   "codemirror_mode": {
    "name": "ipython",
    "version": 3
   },
   "file_extension": ".py",
   "mimetype": "text/x-python",
   "name": "python",
   "nbconvert_exporter": "python",
   "pygments_lexer": "ipython3",
   "version": "3.10.4"
  }
 },
 "nbformat": 4,
 "nbformat_minor": 5
}
